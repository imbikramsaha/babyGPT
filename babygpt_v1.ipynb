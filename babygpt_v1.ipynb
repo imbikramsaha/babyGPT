{
  "metadata": {
    "kernelspec": {
      "language": "python",
      "display_name": "Python 3",
      "name": "python3"
    },
    "language_info": {
      "name": "python",
      "version": "3.11.11",
      "mimetype": "text/x-python",
      "codemirror_mode": {
        "name": "ipython",
        "version": 3
      },
      "pygments_lexer": "ipython3",
      "nbconvert_exporter": "python",
      "file_extension": ".py"
    },
    "colab": {
      "provenance": []
    }
  },
  "nbformat_minor": 0,
  "nbformat": 4,
  "cells": [
    {
      "cell_type": "code",
      "source": [
        "import torch\n",
        "import torch.nn as nn\n",
        "from torch.nn import functional as F"
      ],
      "metadata": {
        "trusted": true,
        "execution": {
          "iopub.status.busy": "2025-04-25T14:32:05.258131Z",
          "iopub.execute_input": "2025-04-25T14:32:05.258679Z",
          "iopub.status.idle": "2025-04-25T14:32:06.898663Z",
          "shell.execute_reply.started": "2025-04-25T14:32:05.258651Z",
          "shell.execute_reply": "2025-04-25T14:32:06.897862Z"
        },
        "id": "YsSfzicyeq5x"
      },
      "outputs": [],
      "execution_count": null
    },
    {
      "cell_type": "code",
      "source": [
        "# hyperparameters\n",
        "batch_size = 128\n",
        "block_size = 128\n",
        "max_iters = 1500\n",
        "eval_interval = 100\n",
        "learning_rate = 1e-3\n",
        "weight_decay = 1e-4\n",
        "device = 'cuda' if torch.cuda.is_available() else 'cpu'\n",
        "eval_iters = 200\n",
        "n_embd = 512\n",
        "n_head = 8\n",
        "n_layer = 6\n",
        "dropout = 0.2"
      ],
      "metadata": {
        "trusted": true,
        "execution": {
          "iopub.status.busy": "2025-04-25T14:32:06.900229Z",
          "iopub.execute_input": "2025-04-25T14:32:06.900606Z",
          "iopub.status.idle": "2025-04-25T14:32:06.933913Z",
          "shell.execute_reply.started": "2025-04-25T14:32:06.900585Z",
          "shell.execute_reply": "2025-04-25T14:32:06.933128Z"
        },
        "id": "pA3cDHAueq55"
      },
      "outputs": [],
      "execution_count": null
    },
    {
      "cell_type": "code",
      "source": [
        "torch.manual_seed(1337)"
      ],
      "metadata": {
        "trusted": true,
        "execution": {
          "iopub.status.busy": "2025-04-25T14:32:06.934654Z",
          "iopub.execute_input": "2025-04-25T14:32:06.934886Z",
          "iopub.status.idle": "2025-04-25T14:32:06.951304Z",
          "shell.execute_reply.started": "2025-04-25T14:32:06.934868Z",
          "shell.execute_reply": "2025-04-25T14:32:06.950632Z"
        },
        "id": "Ful7eSUreq59",
        "outputId": "e168cb95-fb0b-4c6a-ff60-1d6bcca45cd8"
      },
      "outputs": [
        {
          "execution_count": 3,
          "output_type": "execute_result",
          "data": {
            "text/plain": "<torch._C.Generator at 0x79bedb750190>"
          },
          "metadata": {}
        }
      ],
      "execution_count": null
    },
    {
      "cell_type": "code",
      "source": [
        "with open('../input/text-datasets/tiny-shakespeare.txt', 'r', encoding='utf-8') as f:\n",
        "    text = f.read()"
      ],
      "metadata": {
        "trusted": true,
        "execution": {
          "iopub.status.busy": "2025-04-25T14:32:06.952741Z",
          "iopub.execute_input": "2025-04-25T14:32:06.953044Z",
          "iopub.status.idle": "2025-04-25T14:32:06.975170Z",
          "shell.execute_reply.started": "2025-04-25T14:32:06.953026Z",
          "shell.execute_reply": "2025-04-25T14:32:06.974660Z"
        },
        "id": "yRvdFdA-eq6C"
      },
      "outputs": [],
      "execution_count": null
    },
    {
      "cell_type": "code",
      "source": [
        "# here are all the unique characters that occur in this text\n",
        "chars = sorted(list(set(text)))\n",
        "vocab_size = len(chars)"
      ],
      "metadata": {
        "trusted": true,
        "execution": {
          "iopub.status.busy": "2025-04-25T14:32:06.975839Z",
          "iopub.execute_input": "2025-04-25T14:32:06.976085Z",
          "iopub.status.idle": "2025-04-25T14:32:06.988656Z",
          "shell.execute_reply.started": "2025-04-25T14:32:06.976060Z",
          "shell.execute_reply": "2025-04-25T14:32:06.988019Z"
        },
        "id": "Nx8W8baHeq6E"
      },
      "outputs": [],
      "execution_count": null
    },
    {
      "cell_type": "code",
      "source": [
        "# create a mapping from characters to integers\n",
        "stoi = { ch:i for i,ch in enumerate(chars) }\n",
        "itos = { i:ch for i,ch in enumerate(chars) }\n",
        "encode = lambda s: [stoi[c] for c in s] # encoder: take a string, output a list of integers\n",
        "decode = lambda l: ''.join([itos[i] for i in l]) # decoder: take a list of integers, output a string"
      ],
      "metadata": {
        "trusted": true,
        "execution": {
          "iopub.status.busy": "2025-04-25T14:32:11.667917Z",
          "iopub.execute_input": "2025-04-25T14:32:11.668462Z",
          "iopub.status.idle": "2025-04-25T14:32:11.672631Z",
          "shell.execute_reply.started": "2025-04-25T14:32:11.668435Z",
          "shell.execute_reply": "2025-04-25T14:32:11.671851Z"
        },
        "id": "CQEwUgHceq6G"
      },
      "outputs": [],
      "execution_count": null
    },
    {
      "cell_type": "code",
      "source": [
        "# Train and test splits\n",
        "data = torch.tensor(encode(text), dtype=torch.long)\n",
        "n = int(0.9*len(data)) # first 90% will be train, rest val\n",
        "train_data = data[:n]\n",
        "val_data = data[n:]"
      ],
      "metadata": {
        "trusted": true,
        "execution": {
          "iopub.status.busy": "2025-04-25T14:32:11.867917Z",
          "iopub.execute_input": "2025-04-25T14:32:11.868467Z",
          "iopub.status.idle": "2025-04-25T14:32:12.000326Z",
          "shell.execute_reply.started": "2025-04-25T14:32:11.868442Z",
          "shell.execute_reply": "2025-04-25T14:32:11.999554Z"
        },
        "id": "gRnvBHFaeq6J"
      },
      "outputs": [],
      "execution_count": null
    },
    {
      "cell_type": "code",
      "source": [
        "# data loading\n",
        "def get_batch(split):\n",
        "    # generate a small batch of data of inputs x and targets y\n",
        "    data = train_data if split == 'train' else val_data\n",
        "    ix = torch.randint(len(data) - block_size, (batch_size,))\n",
        "    x = torch.stack([data[i:i+block_size] for i in ix])\n",
        "    y = torch.stack([data[i+1:i+block_size+1] for i in ix])\n",
        "    x, y = x.to(device), y.to(device)\n",
        "    return x, y"
      ],
      "metadata": {
        "trusted": true,
        "execution": {
          "iopub.status.busy": "2025-04-25T14:32:12.028399Z",
          "iopub.execute_input": "2025-04-25T14:32:12.028694Z",
          "iopub.status.idle": "2025-04-25T14:32:12.033432Z",
          "shell.execute_reply.started": "2025-04-25T14:32:12.028661Z",
          "shell.execute_reply": "2025-04-25T14:32:12.032720Z"
        },
        "id": "7KFHgLSgeq6M"
      },
      "outputs": [],
      "execution_count": null
    },
    {
      "cell_type": "code",
      "source": [
        "@torch.no_grad()\n",
        "def estimate_loss():\n",
        "    out = {}\n",
        "    model.eval()\n",
        "    for split in ['train', 'val']:\n",
        "        losses = torch.zeros(eval_iters)\n",
        "        for k in range(eval_iters):\n",
        "            X, Y = get_batch(split)\n",
        "            logits, loss = model(X, Y)\n",
        "            losses[k] = loss.item()\n",
        "        out[split] = losses.mean()\n",
        "    model.train()\n",
        "    return out"
      ],
      "metadata": {
        "trusted": true,
        "execution": {
          "iopub.status.busy": "2025-04-25T14:32:12.207985Z",
          "iopub.execute_input": "2025-04-25T14:32:12.208612Z",
          "iopub.status.idle": "2025-04-25T14:32:12.213266Z",
          "shell.execute_reply.started": "2025-04-25T14:32:12.208591Z",
          "shell.execute_reply": "2025-04-25T14:32:12.212394Z"
        },
        "id": "3P4Safp3eq6P"
      },
      "outputs": [],
      "execution_count": null
    },
    {
      "cell_type": "code",
      "source": [
        "class Head(nn.Module):\n",
        "    \"\"\" one head of self-attention \"\"\"\n",
        "\n",
        "    def __init__(self, head_size):\n",
        "        super().__init__()\n",
        "        self.key = nn.Linear(n_embd, head_size, bias=False)\n",
        "        self.query = nn.Linear(n_embd, head_size, bias=False)\n",
        "        self.value = nn.Linear(n_embd, head_size, bias=False)\n",
        "        self.register_buffer('tril', torch.tril(torch.ones(block_size, block_size)))\n",
        "\n",
        "        self.dropout = nn.Dropout(dropout)\n",
        "\n",
        "    def forward(self, x):\n",
        "        B,T,C = x.shape\n",
        "        k = self.key(x)   # (B,T,C)\n",
        "        q = self.query(x) # (B,T,C)\n",
        "        # compute attention scores (\"affinities\")\n",
        "        wei = q @ k.transpose(-2,-1) * C**-0.5 # (B, T, C) @ (B, C, T) -> (B, T, T)\n",
        "        wei = wei.masked_fill(self.tril[:T, :T] == 0, float('-inf')) # (B, T, T)\n",
        "        wei = F.softmax(wei, dim=-1) # (B, T, T)\n",
        "        wei = self.dropout(wei)\n",
        "        # perform the weighted aggregation of the values\n",
        "        v = self.value(x) # (B,T,C)\n",
        "        out = wei @ v # (B, T, T) @ (B, T, C) -> (B, T, C)\n",
        "        return out"
      ],
      "metadata": {
        "trusted": true,
        "execution": {
          "iopub.status.busy": "2025-04-25T14:32:12.432961Z",
          "iopub.execute_input": "2025-04-25T14:32:12.433875Z",
          "iopub.status.idle": "2025-04-25T14:32:12.439730Z",
          "shell.execute_reply.started": "2025-04-25T14:32:12.433843Z",
          "shell.execute_reply": "2025-04-25T14:32:12.438938Z"
        },
        "id": "uD_QfjCheq6T"
      },
      "outputs": [],
      "execution_count": null
    },
    {
      "cell_type": "code",
      "source": [
        "class MultiHeadAttention(nn.Module):\n",
        "    \"\"\" multiple heads of self-attention in parallel \"\"\"\n",
        "\n",
        "    def __init__(self, num_heads, head_size):\n",
        "        super().__init__()\n",
        "        self.heads = nn.ModuleList([Head(head_size) for _ in range(num_heads)])\n",
        "        self.proj = nn.Linear(n_embd, n_embd)\n",
        "        self.dropout = nn.Dropout(dropout)\n",
        "\n",
        "    def forward(self, x):\n",
        "        out = torch.cat([h(x) for h in self.heads], dim=-1)\n",
        "        out = self.dropout(self.proj(out))\n",
        "        return out"
      ],
      "metadata": {
        "trusted": true,
        "execution": {
          "iopub.status.busy": "2025-04-25T14:32:12.627762Z",
          "iopub.execute_input": "2025-04-25T14:32:12.628589Z",
          "iopub.status.idle": "2025-04-25T14:32:12.633115Z",
          "shell.execute_reply.started": "2025-04-25T14:32:12.628564Z",
          "shell.execute_reply": "2025-04-25T14:32:12.632476Z"
        },
        "id": "_k0n2cUxeq6W"
      },
      "outputs": [],
      "execution_count": null
    },
    {
      "cell_type": "code",
      "source": [
        "class FeedFoward(nn.Module):\n",
        "    \"\"\" a simple linear layer followed by a non-linearity \"\"\"\n",
        "\n",
        "    def __init__(self, n_embd):\n",
        "        super().__init__()\n",
        "        self.net = nn.Sequential(\n",
        "            nn.Linear(n_embd, 4 * n_embd),\n",
        "            nn.ReLU(),\n",
        "            nn.Linear(4 * n_embd, n_embd),\n",
        "            nn.Dropout(dropout),\n",
        "        )\n",
        "\n",
        "    def forward(self, x):\n",
        "        return self.net(x)"
      ],
      "metadata": {
        "trusted": true,
        "execution": {
          "iopub.status.busy": "2025-04-25T14:32:12.892699Z",
          "iopub.execute_input": "2025-04-25T14:32:12.893323Z",
          "iopub.status.idle": "2025-04-25T14:32:12.897756Z",
          "shell.execute_reply.started": "2025-04-25T14:32:12.893297Z",
          "shell.execute_reply": "2025-04-25T14:32:12.896864Z"
        },
        "id": "1waYEsE_eq6Y"
      },
      "outputs": [],
      "execution_count": null
    },
    {
      "cell_type": "code",
      "source": [
        "class Block(nn.Module):\n",
        "    \"\"\" Transformer block: communication followed by computation \"\"\"\n",
        "\n",
        "    def __init__(self, n_embd, n_head):\n",
        "        # n_embd: embedding dimension, n_head: the number of heads we'd like\n",
        "        super().__init__()\n",
        "        head_size = n_embd // n_head\n",
        "        self.sa = MultiHeadAttention(n_head, head_size)\n",
        "        self.ffwd = FeedFoward(n_embd)\n",
        "        self.ln1 = nn.LayerNorm(n_embd)\n",
        "        self.ln2 = nn.LayerNorm(n_embd)\n",
        "\n",
        "    def forward(self, x):\n",
        "        x = x + self.sa(self.ln1(x))\n",
        "        x = x + self.ffwd(self.ln2(x))\n",
        "        return x"
      ],
      "metadata": {
        "trusted": true,
        "execution": {
          "iopub.status.busy": "2025-04-25T14:32:19.604036Z",
          "iopub.execute_input": "2025-04-25T14:32:19.604736Z",
          "iopub.status.idle": "2025-04-25T14:32:19.609234Z",
          "shell.execute_reply.started": "2025-04-25T14:32:19.604715Z",
          "shell.execute_reply": "2025-04-25T14:32:19.608549Z"
        },
        "id": "F8VwoooIeq6Z"
      },
      "outputs": [],
      "execution_count": null
    },
    {
      "cell_type": "code",
      "source": [
        "# super simple bigram model\n",
        "class BigramLanguageModel(nn.Module):\n",
        "\n",
        "    def __init__(self):\n",
        "        super().__init__()\n",
        "        # each token directly reads off the logits for the next token from a lookup table\n",
        "        self.token_embedding_table = nn.Embedding(vocab_size, n_embd)\n",
        "        self.position_embedding_table = nn.Embedding(block_size, n_embd)\n",
        "        self.blocks = nn.Sequential(*[Block(n_embd, n_head=n_head) for _ in range(n_layer)])\n",
        "        self.ln_f = nn.LayerNorm(n_embd) # final layer norm\n",
        "        self.lm_head = nn.Linear(n_embd, vocab_size)\n",
        "\n",
        "    def forward(self, idx, targets=None):\n",
        "        B, T = idx.shape\n",
        "\n",
        "        # idx and targets are both (B,T) tensor of integers\n",
        "        tok_emb = self.token_embedding_table(idx) # (B,T,C)\n",
        "        pos_emb = self.position_embedding_table(torch.arange(T, device=device)) # (T,C)\n",
        "        x = tok_emb + pos_emb # (B,T,C)\n",
        "        x = self.blocks(x) # (B,T,C)\n",
        "        x = self.ln_f(x) # (B,T,C)\n",
        "        logits = self.lm_head(x) # (B,T,vocab_size)\n",
        "\n",
        "        if targets is None:\n",
        "            loss = None\n",
        "        else:\n",
        "            B, T, C = logits.shape\n",
        "            logits = logits.view(B*T, C)\n",
        "            targets = targets.view(B*T)\n",
        "            loss = F.cross_entropy(logits, targets)\n",
        "\n",
        "        return logits, loss\n",
        "\n",
        "    def generate(self, idx, max_new_tokens):\n",
        "        # idx is (B, T) array of indices in the current context\n",
        "        for _ in range(max_new_tokens):\n",
        "            # crop idx to the last block_size tokens\n",
        "            idx_cond = idx[:, -block_size:]\n",
        "            # get the predictions\n",
        "            logits, loss = self(idx_cond)\n",
        "            # focus only on the last time step\n",
        "            logits = logits[:, -1, :] # becomes (B, C)\n",
        "            # apply softmax to get probabilities\n",
        "            probs = F.softmax(logits, dim=-1) # (B, C)\n",
        "            # sample from the distribution\n",
        "            idx_next = torch.multinomial(probs, num_samples=1) # (B, 1)\n",
        "            # append sampled index to the running sequence\n",
        "            idx = torch.cat((idx, idx_next), dim=1) # (B, T+1)\n",
        "        return idx"
      ],
      "metadata": {
        "trusted": true,
        "execution": {
          "iopub.status.busy": "2025-04-25T14:32:19.933109Z",
          "iopub.execute_input": "2025-04-25T14:32:19.933391Z",
          "iopub.status.idle": "2025-04-25T14:32:19.940917Z",
          "shell.execute_reply.started": "2025-04-25T14:32:19.933370Z",
          "shell.execute_reply": "2025-04-25T14:32:19.940212Z"
        },
        "id": "bOyuzCWbeq6a"
      },
      "outputs": [],
      "execution_count": null
    },
    {
      "cell_type": "code",
      "source": [
        "model = BigramLanguageModel()\n",
        "m = model.to(device)\n",
        "# print the number of parameters in the model\n",
        "print(sum(p.numel() for p in m.parameters())/1e6, 'M parameters')"
      ],
      "metadata": {
        "trusted": true,
        "execution": {
          "iopub.status.busy": "2025-04-25T14:32:25.648294Z",
          "iopub.execute_input": "2025-04-25T14:32:25.648820Z",
          "iopub.status.idle": "2025-04-25T14:32:25.977579Z",
          "shell.execute_reply.started": "2025-04-25T14:32:25.648779Z",
          "shell.execute_reply": "2025-04-25T14:32:25.976869Z"
        },
        "id": "e8SvLAoQeq6d",
        "outputId": "ea4c971f-1223-464c-ab69-8000a0b74e3d"
      },
      "outputs": [
        {
          "name": "stdout",
          "text": "19.038273 M parameters\n",
          "output_type": "stream"
        }
      ],
      "execution_count": null
    },
    {
      "cell_type": "code",
      "source": [
        "# create a PyTorch optimizer\n",
        "optimizer = torch.optim.AdamW(model.parameters(), lr=learning_rate, weight_decay=weight_decay)\n",
        "\n",
        "for iter in range(max_iters):\n",
        "\n",
        "    # every once in a while evaluate the loss on train and val sets\n",
        "    if iter % eval_interval == 0 or iter == max_iters - 1:\n",
        "        losses = estimate_loss()\n",
        "        print(f\"step {iter}: train loss {losses['train']:.4f}, val loss {losses['val']:.4f}\")\n",
        "\n",
        "    # sample a batch of data\n",
        "    xb, yb = get_batch('train')\n",
        "\n",
        "    # evaluate the loss\n",
        "    logits, loss = model(xb, yb)\n",
        "    optimizer.zero_grad(set_to_none=True)\n",
        "    loss.backward()\n",
        "    optimizer.step()"
      ],
      "metadata": {
        "trusted": true,
        "execution": {
          "iopub.status.busy": "2025-04-25T14:32:31.273837Z",
          "iopub.execute_input": "2025-04-25T14:32:31.274113Z",
          "iopub.status.idle": "2025-04-25T14:55:14.464608Z",
          "shell.execute_reply.started": "2025-04-25T14:32:31.274092Z",
          "shell.execute_reply": "2025-04-25T14:55:14.463791Z"
        },
        "id": "xjoqPgkdeq6f",
        "outputId": "dc926ce2-c476-4b3e-912b-792c717634e6"
      },
      "outputs": [
        {
          "name": "stdout",
          "text": "step 0: train loss 4.3386, val loss 4.3334\nstep 100: train loss 2.4851, val loss 2.4959\nstep 200: train loss 2.1957, val loss 2.2324\nstep 300: train loss 1.8920, val loss 2.0112\nstep 400: train loss 1.6977, val loss 1.8595\nstep 500: train loss 1.5693, val loss 1.7590\nstep 600: train loss 1.4826, val loss 1.6788\nstep 700: train loss 1.4225, val loss 1.6409\nstep 800: train loss 1.3759, val loss 1.5990\nstep 900: train loss 1.3388, val loss 1.5834\nstep 1000: train loss 1.3053, val loss 1.5542\nstep 1100: train loss 1.2766, val loss 1.5291\nstep 1200: train loss 1.2583, val loss 1.5297\nstep 1300: train loss 1.2329, val loss 1.5201\nstep 1400: train loss 1.2151, val loss 1.5193\nstep 1499: train loss 1.1970, val loss 1.5193\n",
          "output_type": "stream"
        }
      ],
      "execution_count": null
    },
    {
      "cell_type": "code",
      "source": [
        "# After the training loop finishes, save the model:\n",
        "torch.save(model.state_dict(), '../working/babyGPT-19M-model-v1.pth')\n",
        "print(\"Trained model saved to model.pth\")"
      ],
      "metadata": {
        "trusted": true,
        "execution": {
          "iopub.status.busy": "2025-04-25T14:55:14.466184Z",
          "iopub.execute_input": "2025-04-25T14:55:14.466501Z",
          "iopub.status.idle": "2025-04-25T14:55:14.824719Z",
          "shell.execute_reply.started": "2025-04-25T14:55:14.466485Z",
          "shell.execute_reply": "2025-04-25T14:55:14.823989Z"
        },
        "id": "XQQEMLsDeq6h",
        "outputId": "2b8009ff-1740-4028-dd63-be1d93e10adc"
      },
      "outputs": [
        {
          "name": "stdout",
          "text": "Trained model saved to model.pth\n",
          "output_type": "stream"
        }
      ],
      "execution_count": null
    },
    {
      "cell_type": "code",
      "source": [
        "# generate from the model\n",
        "context = torch.zeros((1, 1), dtype=torch.long, device=device)\n",
        "print(decode(m.generate(context, max_new_tokens=1000)[0].tolist()))"
      ],
      "metadata": {
        "trusted": true,
        "execution": {
          "iopub.status.busy": "2025-04-25T14:55:14.825601Z",
          "iopub.execute_input": "2025-04-25T14:55:14.825975Z",
          "iopub.status.idle": "2025-04-25T14:55:34.934562Z",
          "shell.execute_reply.started": "2025-04-25T14:55:14.825947Z",
          "shell.execute_reply": "2025-04-25T14:55:34.933839Z"
        },
        "id": "2hQzLNlYeq6j",
        "outputId": "b85eccd7-5375-4db2-d227-3c18fe8cd880"
      },
      "outputs": [
        {
          "name": "stdout",
          "text": "\nThis is devil no morning farther men.\n\nSecond Watchman:\nWhen had the senate mutt hast given you it?\n\nCORIOLANUS:\nOn play the sighful curse of true sconce and ruth;\nAnd it yet men with his seconded kisses on;\nAnd Targe to be one speech in downright;\nOne no trumpier beat or king, as you give\nTh very so houlder a parties.\n\nBISHOPHOP O, if all the wead of Capitol,\nPlantageneters' foretimes! how now they love\nOn two about to the athem's ordain.\n\nSorrow:\nBy hold our son, I'ld be him to be scontent\nat factorous advereign tolement, unto your requeen,\nNot for become home me of this biddy you: I\nHonourabelly now much! Call's breave, not\nHave yongs on some consul: prey more company?\n\nFirst Gentleman:\nLook, and so in him; I am good to chid;\nhese fury 'Forehakings a Lewis,' thou never said\nthe drunk of hate-but does, but myself hath it.\nPerily o' the morning bowns for the dagger of wint retule\nand the worary that he was comes of naptures are what.\n\nJULIET:\nI'll broad a husbout to true fast and the \n",
          "output_type": "stream"
        }
      ],
      "execution_count": null
    },
    {
      "cell_type": "code",
      "source": [],
      "metadata": {
        "trusted": true,
        "id": "1b0ccVMmeq6l"
      },
      "outputs": [],
      "execution_count": null
    },
    {
      "cell_type": "code",
      "source": [],
      "metadata": {
        "trusted": true,
        "id": "sWufwpSieq6m"
      },
      "outputs": [],
      "execution_count": null
    }
  ]
}